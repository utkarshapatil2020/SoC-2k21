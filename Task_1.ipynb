{
  "nbformat": 4,
  "nbformat_minor": 0,
  "metadata": {
    "colab": {
      "name": "Task 1",
      "provenance": [],
      "authorship_tag": "ABX9TyPA3Mbu/5xwEx5/LTJVNzwy",
      "include_colab_link": true
    },
    "kernelspec": {
      "name": "python3",
      "display_name": "Python 3"
    },
    "language_info": {
      "name": "python"
    }
  },
  "cells": [
    {
      "cell_type": "markdown",
      "metadata": {
        "id": "view-in-github",
        "colab_type": "text"
      },
      "source": [
        "<a href=\"https://colab.research.google.com/github/utkarshapatil2020/SoC-2k21/blob/main/Task_1.ipynb\" target=\"_parent\"><img src=\"https://colab.research.google.com/assets/colab-badge.svg\" alt=\"Open In Colab\"/></a>"
      ]
    },
    {
      "cell_type": "markdown",
      "metadata": {
        "id": "NQlkrxRO7Mzp"
      },
      "source": [
        ""
      ]
    },
    {
      "cell_type": "markdown",
      "metadata": {
        "id": "T3RgC00I_ee4"
      },
      "source": [
        "#File"
      ]
    },
    {
      "cell_type": "code",
      "metadata": {
        "colab": {
          "base_uri": "https://localhost:8080/"
        },
        "id": "Tq3kBRIm5GSp",
        "outputId": "02f1ddf1-f747-4f90-bbb5-a1d6b5af096e"
      },
      "source": [
        "import pandas as pd\n",
        "df=pd.read_csv('/content/Dataset.csv')\n",
        "\n",
        "print(df)"
      ],
      "execution_count": 27,
      "outputs": [
        {
          "output_type": "stream",
          "text": [
            "          country  year  ... gdp_per_capita ($)       generation\n",
            "0         Albania  1987  ...                796     Generation X\n",
            "1         Albania  1987  ...                796           Silent\n",
            "2         Albania  1987  ...                796     Generation X\n",
            "3         Albania  1987  ...                796  G.I. Generation\n",
            "4         Albania  1987  ...                796          Boomers\n",
            "...           ...   ...  ...                ...              ...\n",
            "27815  Uzbekistan  2014  ...               2309     Generation X\n",
            "27816  Uzbekistan  2014  ...               2309           Silent\n",
            "27817  Uzbekistan  2014  ...               2309     Generation Z\n",
            "27818  Uzbekistan  2014  ...               2309     Generation Z\n",
            "27819  Uzbekistan  2014  ...               2309          Boomers\n",
            "\n",
            "[27820 rows x 12 columns]\n"
          ],
          "name": "stdout"
        }
      ]
    },
    {
      "cell_type": "markdown",
      "metadata": {
        "id": "7zRuJ_ZbGP74"
      },
      "source": [
        "#Portion of the Data"
      ]
    },
    {
      "cell_type": "code",
      "metadata": {
        "colab": {
          "base_uri": "https://localhost:8080/"
        },
        "id": "IQgmbXLrE2pL",
        "outputId": "82b387da-684a-4ddc-8ecc-69f9d6df8f30"
      },
      "source": [
        "import pandas as pd\n",
        "df=pd.read_csv('/content/Dataset.csv')\n",
        "\n",
        "print(df.head())"
      ],
      "execution_count": 24,
      "outputs": [
        {
          "output_type": "stream",
          "text": [
            "   country  year  ... gdp_per_capita ($)       generation\n",
            "0  Albania  1987  ...                796     Generation X\n",
            "1  Albania  1987  ...                796           Silent\n",
            "2  Albania  1987  ...                796     Generation X\n",
            "3  Albania  1987  ...                796  G.I. Generation\n",
            "4  Albania  1987  ...                796          Boomers\n",
            "\n",
            "[5 rows x 12 columns]\n"
          ],
          "name": "stdout"
        }
      ]
    },
    {
      "cell_type": "code",
      "metadata": {
        "id": "wV-RBIXeGXG5"
      },
      "source": [
        "#Reading of records and variables"
      ],
      "execution_count": null,
      "outputs": []
    },
    {
      "cell_type": "code",
      "metadata": {
        "colab": {
          "base_uri": "https://localhost:8080/"
        },
        "id": "5UguUiTBAXDQ",
        "outputId": "e88cc436-0edf-4213-af48-722276cb9f3c"
      },
      "source": [
        "import pandas as pd\n",
        "df=pd.read_csv('/content/Dataset.csv')\n",
        "\n",
        "print(\n",
        "    ' num_rec :' , df.shape[0],\n",
        "      '\\n',\n",
        "      'num_var :',df.shape[1]\n",
        "      )\n"
      ],
      "execution_count": 33,
      "outputs": [
        {
          "output_type": "stream",
          "text": [
            " num_rec : 27820 \n",
            " num_var : 12\n"
          ],
          "name": "stdout"
        }
      ]
    },
    {
      "cell_type": "code",
      "metadata": {
        "colab": {
          "base_uri": "https://localhost:8080/"
        },
        "id": "Dssp9HtqFfuZ",
        "outputId": "d87ea8d4-07ef-46ca-9148-d06cd5d93d4d"
      },
      "source": [
        "import pandas as pd\n",
        "df=pd.read_csv('/content/Dataset.csv')\n",
        "df.head()\n",
        "print(\n",
        "    ' num_rec :' , df.head().shape[0],\n",
        "      '\\n',\n",
        "      'num_var :',df.head().shape[1]\n",
        "      )\n"
      ],
      "execution_count": 34,
      "outputs": [
        {
          "output_type": "stream",
          "text": [
            " num_rec : 5 \n",
            " num_var : 12\n"
          ],
          "name": "stdout"
        }
      ]
    },
    {
      "cell_type": "markdown",
      "metadata": {
        "id": "JWVLSKJVLvP7"
      },
      "source": [
        "#Data type of each variable"
      ]
    },
    {
      "cell_type": "code",
      "metadata": {
        "colab": {
          "base_uri": "https://localhost:8080/"
        },
        "id": "Z2154SoIE8WV",
        "outputId": "d60742fb-5794-4ca5-c6ae-5524f30077e6"
      },
      "source": [
        "import pandas as pd\n",
        "df=pd.read_csv('/content/Dataset.csv')\n",
        "df=df.head()\n",
        "print(\n",
        "    df.dtypes\n",
        "      )\n"
      ],
      "execution_count": 41,
      "outputs": [
        {
          "output_type": "stream",
          "text": [
            "country                object\n",
            "year                    int64\n",
            "sex                    object\n",
            "age                    object\n",
            "suicides_no             int64\n",
            "population              int64\n",
            "suicides/100k pop     float64\n",
            "country-year           object\n",
            "HDI for year          float64\n",
            " gdp_for_year ($)      object\n",
            "gdp_per_capita ($)      int64\n",
            "generation             object\n",
            "dtype: object\n"
          ],
          "name": "stdout"
        }
      ]
    },
    {
      "cell_type": "markdown",
      "metadata": {
        "id": "s4oATPwYNYwY"
      },
      "source": [
        "#Number of unique values for each variable"
      ]
    },
    {
      "cell_type": "code",
      "metadata": {
        "colab": {
          "base_uri": "https://localhost:8080/"
        },
        "id": "WRMah-6-Av-X",
        "outputId": "0d4c7937-2feb-4b26-f4ee-551ba11531e5"
      },
      "source": [
        "import pandas as pd\n",
        "df=pd.read_csv('/content/Dataset.csv')\n",
        "df=df.head()\n",
        "print(\n",
        "  df.nunique()\n",
        "      )\n"
      ],
      "execution_count": 43,
      "outputs": [
        {
          "output_type": "stream",
          "text": [
            "country               1\n",
            "year                  1\n",
            "sex                   2\n",
            "age                   4\n",
            "suicides_no           5\n",
            "population            5\n",
            "suicides/100k pop     5\n",
            "country-year          1\n",
            "HDI for year          0\n",
            " gdp_for_year ($)     1\n",
            "gdp_per_capita ($)    1\n",
            "generation            4\n",
            "dtype: int64\n"
          ],
          "name": "stdout"
        }
      ]
    },
    {
      "cell_type": "markdown",
      "metadata": {
        "id": "_iJ6K10_SpOL"
      },
      "source": [
        "# Number of missing entries\n",
        "\n",
        "issing entries"
      ]
    },
    {
      "cell_type": "code",
      "metadata": {
        "colab": {
          "base_uri": "https://localhost:8080/"
        },
        "id": "TQamlAS3E_sg",
        "outputId": "3650cbb7-7661-430f-b85d-9b527fd75538"
      },
      "source": [
        "import pandas as pd\n",
        "df=pd.read_csv('/content/Dataset.csv')\n",
        "\n",
        "print(\n",
        "  \n",
        "  df.isnull().sum()\n",
        "      )\n"
      ],
      "execution_count": 2,
      "outputs": [
        {
          "output_type": "stream",
          "text": [
            "country                   0\n",
            "year                      0\n",
            "sex                       0\n",
            "age                       0\n",
            "suicides_no               0\n",
            "population                0\n",
            "suicides/100k pop         0\n",
            "country-year              0\n",
            "HDI for year          19456\n",
            " gdp_for_year ($)         0\n",
            "gdp_per_capita ($)        0\n",
            "generation                0\n",
            "dtype: int64\n"
          ],
          "name": "stdout"
        }
      ]
    },
    {
      "cell_type": "markdown",
      "metadata": {
        "id": "2uxiRvHaTGWB"
      },
      "source": [
        "#Num of records with no missing entries"
      ]
    },
    {
      "cell_type": "code",
      "metadata": {
        "colab": {
          "base_uri": "https://localhost:8080/"
        },
        "id": "cmzjEBOg_k4v",
        "outputId": "810ae79d-ac36-4bf7-b98a-d3ecf2db03a3"
      },
      "source": [
        "import pandas as pd\n",
        "df=pd.read_csv('/content/Dataset.csv')\n",
        "\n",
        "print(\n",
        "  \n",
        "len(df.dropna())\n",
        "      )"
      ],
      "execution_count": 51,
      "outputs": [
        {
          "output_type": "stream",
          "text": [
            "8364\n"
          ],
          "name": "stdout"
        }
      ]
    },
    {
      "cell_type": "code",
      "metadata": {
        "id": "i6-RNA83AWJB"
      },
      "source": [
        ""
      ],
      "execution_count": null,
      "outputs": []
    }
  ]
}